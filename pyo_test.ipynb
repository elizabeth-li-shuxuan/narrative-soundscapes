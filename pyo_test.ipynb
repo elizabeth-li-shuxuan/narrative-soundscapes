{
 "cells": [
  {
   "cell_type": "code",
   "execution_count": 1,
   "id": "decab315",
   "metadata": {},
   "outputs": [],
   "source": [
    "import simpleaudio as sa\n",
    "import numpy as np\n",
    "from pyo import Server, Sine, pa_list_devices\n"
   ]
  },
  {
   "cell_type": "markdown",
   "id": "ac0d62d9",
   "metadata": {},
   "source": [
    "the cell below works"
   ]
  },
  {
   "cell_type": "code",
   "execution_count": 2,
   "id": "98e5b6d2",
   "metadata": {},
   "outputs": [
    {
     "ename": "KeyboardInterrupt",
     "evalue": "",
     "output_type": "error",
     "traceback": [
      "\u001b[31m---------------------------------------------------------------------------\u001b[39m",
      "\u001b[31mKeyboardInterrupt\u001b[39m                         Traceback (most recent call last)",
      "\u001b[36mCell\u001b[39m\u001b[36m \u001b[39m\u001b[32mIn[2]\u001b[39m\u001b[32m, line 10\u001b[39m\n\u001b[32m      7\u001b[39m audio = (wave * (\u001b[32m2\u001b[39m**\u001b[32m15\u001b[39m - \u001b[32m1\u001b[39m)).astype(np.int16)\n\u001b[32m      9\u001b[39m play = sa.play_buffer(audio, \u001b[32m1\u001b[39m, \u001b[32m2\u001b[39m, sr)\n\u001b[32m---> \u001b[39m\u001b[32m10\u001b[39m \u001b[43mplay\u001b[49m\u001b[43m.\u001b[49m\u001b[43mwait_done\u001b[49m\u001b[43m(\u001b[49m\u001b[43m)\u001b[49m\n",
      "\u001b[36mFile \u001b[39m\u001b[32m~/Desktop/School/mus14/venv/lib/python3.11/site-packages/simpleaudio/shiny.py:49\u001b[39m, in \u001b[36mPlayObject.wait_done\u001b[39m\u001b[34m(self)\u001b[39m\n\u001b[32m     47\u001b[39m \u001b[38;5;28;01mdef\u001b[39;00m\u001b[38;5;250m \u001b[39m\u001b[34mwait_done\u001b[39m(\u001b[38;5;28mself\u001b[39m):\n\u001b[32m     48\u001b[39m     \u001b[38;5;28;01mwhile\u001b[39;00m \u001b[38;5;28mself\u001b[39m.is_playing():\n\u001b[32m---> \u001b[39m\u001b[32m49\u001b[39m         \u001b[43msleep\u001b[49m\u001b[43m(\u001b[49m\u001b[32;43m0.05\u001b[39;49m\u001b[43m)\u001b[49m\n",
      "\u001b[31mKeyboardInterrupt\u001b[39m: "
     ]
    }
   ],
   "source": [
    "\n",
    "\n",
    "freq = 440  # A4\n",
    "dur  = 3.0  # seconds\n",
    "sr   = 44100\n",
    "\n",
    "t = np.linspace(0, dur, int(sr*dur), False)\n",
    "wave = np.sin(2 * np.pi * freq * t) * 0.5\n",
    "audio = (wave * (2**15 - 1)).astype(np.int16)\n",
    "\n",
    "play = sa.play_buffer(audio, 1, 2, sr)\n",
    "play.wait_done()"
   ]
  },
  {
   "cell_type": "markdown",
   "id": "58b3b921",
   "metadata": {},
   "source": [
    "the cell below doesn't work"
   ]
  },
  {
   "cell_type": "code",
   "execution_count": 2,
   "id": "7e6ed7b3",
   "metadata": {},
   "outputs": [
    {
     "name": "stdout",
     "output_type": "stream",
     "text": [
      "AUDIO devices:\n",
      "0: OUT, name: VG245, host api index: 0, default sr: 48000 Hz, latency: 0.009833 s\n",
      "1: IN, name: BlackHole 2ch, host api index: 0, default sr: 48000 Hz, latency: 0.010000 s\n",
      "1: OUT, name: BlackHole 2ch, host api index: 0, default sr: 48000 Hz, latency: 0.001333 s\n",
      "2: IN, name: MacBook Air Microphone, host api index: 0, default sr: 48000 Hz, latency: 0.032354 s\n",
      "3: OUT, name: MacBook Air Speakers, host api index: 0, default sr: 48000 Hz, latency: 0.024125 s\n",
      "4: IN, name: 蜥蜴的耳朵, host api index: 0, default sr: 24000 Hz, latency: 0.012667 s\n",
      "5: OUT, name: 蜥蜴的耳朵, host api index: 0, default sr: 48000 Hz, latency: 0.161333 s\n",
      "6: IN, name: WeMeet Audio Device, host api index: 0, default sr: 48000 Hz, latency: 0.010000 s\n",
      "6: OUT, name: WeMeet Audio Device, host api index: 0, default sr: 48000 Hz, latency: 0.001333 s\n",
      "7: IN, name: ZoomAudioDevice, host api index: 0, default sr: 48000 Hz, latency: 0.010000 s\n",
      "7: OUT, name: ZoomAudioDevice, host api index: 0, default sr: 48000 Hz, latency: 0.033333 s\n",
      "8: OUT, name: blackhole + airpods, host api index: 0, default sr: 48000 Hz, latency: 0.161333 s\n",
      "9: OUT, name: blackhole + speakers, host api index: 0, default sr: 48000 Hz, latency: 0.004396 s\n",
      "\n",
      "None\n",
      "Pyo warning: Portmidi warning: no midi device found!\n",
      "Portmidi closed.\n"
     ]
    },
    {
     "ename": "",
     "evalue": "",
     "output_type": "error",
     "traceback": [
      "\u001b[1;31mThe Kernel crashed while executing code in the current cell or a previous cell. \n",
      "\u001b[1;31mPlease review the code in the cell(s) to identify a possible cause of the failure. \n",
      "\u001b[1;31mClick <a href='https://aka.ms/vscodeJupyterKernelCrash'>here</a> for more info. \n",
      "\u001b[1;31mView Jupyter <a href='command:jupyter.viewOutput'>log</a> for further details."
     ]
    }
   ],
   "source": [
    "from pyo import Server, Sine, pa_list_devices\n",
    "\n",
    "# (Re)print your devices so you can confirm the index:\n",
    "print(pa_list_devices())\n",
    "# Look for the “OUT” entry for your AirPods—say it’s index 6.\n",
    "\n",
    "# 1) Create server (no device=… here)\n",
    "s = Server(duplex=False, nchnls=2, sr=44100, audio='portaudio').boot()\n",
    "\n",
    "# 2) Force the output to your AirPods\n",
    "s.setOutputDevice(6)\n",
    "\n",
    "# 3) Start and play a continuous 440 Hz tone\n",
    "s.start()\n",
    "Sine(freq=440, mul=0.5).out()\n",
    "\n",
    "# 4) Keep the GUI open (blocks until you close it)\n",
    "s.gui(locals())\n"
   ]
  },
  {
   "cell_type": "code",
   "execution_count": 1,
   "id": "2281e4fe",
   "metadata": {},
   "outputs": [
    {
     "name": "stdout",
     "output_type": "stream",
     "text": [
      "Pyo warning: Portmidi warning: no midi device found!\n",
      "Portmidi closed.\n"
     ]
    },
    {
     "ename": "",
     "evalue": "",
     "output_type": "error",
     "traceback": [
      "\u001b[1;31mThe Kernel crashed while executing code in the current cell or a previous cell. \n",
      "\u001b[1;31mPlease review the code in the cell(s) to identify a possible cause of the failure. \n",
      "\u001b[1;31mClick <a href='https://aka.ms/vscodeJupyterKernelCrash'>here</a> for more info. \n",
      "\u001b[1;31mView Jupyter <a href='command:jupyter.viewOutput'>log</a> for further details."
     ]
    }
   ],
   "source": [
    "from pyo import Server, Sine\n",
    "\n",
    "# 1) Boot a stereo-capable server:\n",
    "#    - nchnls=2 forces two output channels (left+right).\n",
    "#    - audio='portaudio' (or 'CoreAudio' on macOS) picks a modern backend.\n",
    "s = Server(duplex=False, sr=44100, nchnls=2, audio='portaudio').boot()\n",
    "\n",
    "# 2) Start audio processing.\n",
    "s.start()\n",
    "\n",
    "# 3) Generate your sine wave and send it to **both** channels.\n",
    "#    By default, .out() now spans all available channels (0 and 1).\n",
    "note = Sine(freq=440, mul=0.2).out() \n",
    "\n",
    "# 4) Keep the GUI alive so you can hear it.\n",
    "s.gui(locals())\n"
   ]
  }
 ],
 "metadata": {
  "kernelspec": {
   "display_name": "venv",
   "language": "python",
   "name": "python3"
  },
  "language_info": {
   "codemirror_mode": {
    "name": "ipython",
    "version": 3
   },
   "file_extension": ".py",
   "mimetype": "text/x-python",
   "name": "python",
   "nbconvert_exporter": "python",
   "pygments_lexer": "ipython3",
   "version": "3.11.3"
  }
 },
 "nbformat": 4,
 "nbformat_minor": 5
}
